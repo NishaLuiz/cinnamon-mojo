{
 "cells": [
  {
   "cell_type": "code",
   "execution_count": 20,
   "id": "38b9375b-ebdf-487f-b789-ccb2129e8d0b",
   "metadata": {},
   "outputs": [],
   "source": [
    "import csv\n",
    "projectName=\"XYZ\"\n",
    "outputcsvfileName = \"C:/Users/DELL/OneDrive/Documents/\" + projectName +\"rainfallData.csv\"\n",
    "outcsvLeapYearfileName=\"C:/Users/DELL/OneDrive/Documents/\" + projectName +\"leapRainfallData.csv\"\n",
    "# Populating a list with values 1 to 365\n",
    "headings=[]\n",
    "headings.append(\"year\")\n",
    "headings.append(\"X\")\n",
    "headings.append(\"Y\")\n",
    "# Append integers from 1 to 365 to the list\n",
    "for i in range(1, 366):\n",
    "    dayofyear=str(i)\n",
    "    headings.append(dayofyear)\n",
    "headings.append(\"\")\n",
    "\n",
    "# Populating a list with values 1 to 366\n",
    "leapheadings=[]\n",
    "leapheadings.append(\"year\")\n",
    "leapheadings.append(\"X\")\n",
    "leapheadings.append(\"Y\")\n",
    "# Append integers from 1 to 366 to the list\n",
    "for i in range(1, 367):\n",
    "    dayofyear=str(i)\n",
    "    leapheadings.append(dayofyear)\n",
    "leapheadings.append(\"\")"
   ]
  },
  {
   "cell_type": "code",
   "execution_count": 21,
   "id": "50125034-246e-40e0-8d89-02c8f7bf627f",
   "metadata": {},
   "outputs": [],
   "source": [
    "with open(outputcsvfileName, 'w') as outputcsvfile, open(outcsvLeapYearfileName, 'w') as outputcsvLeapfile:\n",
    "    writer = csv.DictWriter(outputcsvfile, fieldnames=headings)\n",
    "    writerLeap=csv.DictWriter(outputcsvLeapfile,fieldnames=leapheadings)\n",
    "    writer.writeheader()\n",
    "    writerLeap.writeheader()\n",
    "    for year in range(1973,2023):\n",
    "            fileName = \"C:/Users/DELL/OneDrive/Documents/Rainfall/\"+ str(year) + \"_rain.csv\"      \n",
    "            with open(fileName , 'r') as csvfile : \n",
    "                reader = csv.DictReader(csvfile)\n",
    "                for row in reader:\n",
    "                   longitude = float(row[\"X\"])\n",
    "                   latitude = float(row[\"Y\"]) \n",
    "                   if longitude==74 and latitude==33:      \n",
    "                    data = row\n",
    "                    data['year'] = str(year)\n",
    "                    if year%4 !=0:  \n",
    "                        writer.writerow(data)\n",
    "                    else:\n",
    "                        writerLeap.writerow(data)\n",
    "                    break\n",
    "            csvfile.close()           \n",
    "outputcsvfile.close()\n",
    "outputcsvLeapfile.close()"
   ]
  },
  {
   "cell_type": "code",
   "execution_count": null,
   "id": "f3345660-8005-4c26-920b-399a69b15760",
   "metadata": {},
   "outputs": [],
   "source": []
  }
 ],
 "metadata": {
  "kernelspec": {
   "display_name": "Python 3 (ipykernel)",
   "language": "python",
   "name": "python3"
  },
  "language_info": {
   "codemirror_mode": {
    "name": "ipython",
    "version": 3
   },
   "file_extension": ".py",
   "mimetype": "text/x-python",
   "name": "python",
   "nbconvert_exporter": "python",
   "pygments_lexer": "ipython3",
   "version": "3.12.3"
  }
 },
 "nbformat": 4,
 "nbformat_minor": 5
}
