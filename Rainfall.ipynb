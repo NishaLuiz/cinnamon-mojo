{
 "cells": [
  {
   "cell_type": "code",
   "execution_count": 13,
   "id": "153d3a97-59fe-4116-8096-745bba0e0f24",
   "metadata": {},
   "outputs": [],
   "source": [
    "import csv\n",
    "\n",
    "#for year in range(1973,2022)\n",
    "year=2022\n",
    "fileName = \"C:/Users/DELL/OneDrive/Documents/Rainfall/\"+ str(year) + \"_rain.csv\"\n",
    "\n",
    "projectName=\"Reports\"\n",
    "outputcsvfileName = \"C:/Users/DELL/OneDrive/Documents/\" + projectName +\"rainfallData.csv\"\n",
    "# Populating a list with values 1 to 365\n",
    "headings=[]\n",
    "headings.append(\"X\")\n",
    "headings.append(\"Y\")\n",
    "# Append integers from 1 to 365 to the list\n",
    "for i in range(1, 366):\n",
    "    dayofyear=str(i)\n",
    "    headings.append(dayofyear)\n",
    "headings.append(\"\")\n",
    "# Alternatively, you can use list comprehension:\n",
    "#dayValues = [i for i in range(1, 366)]\n",
    "#print(headings)\n",
    "\n"
   ]
  },
  {
   "cell_type": "code",
   "execution_count": 14,
   "id": "12ccf2cf-ffa6-415a-8639-2a5fed1b0e2d",
   "metadata": {},
   "outputs": [],
   "source": [
    "with open(fileName , 'r') as csvfile : \n",
    "    reader = csv.DictReader(csvfile)\n",
    "    for row in reader:\n",
    "       longitude = float(row[\"X\"])\n",
    "       latitude = float(row[\"Y\"]) \n",
    "       if longitude==75.5 and latitude==6.5:      \n",
    "        data = row\n",
    "        break\n",
    "\n",
    "#print(data)\n",
    "\n",
    "#fieldNames.extend(dayValues)\n",
    "#print(data.values())\n"
   ]
  },
  {
   "cell_type": "code",
   "execution_count": 15,
   "id": "31088206-e159-4e56-8694-4153fc4543b9",
   "metadata": {},
   "outputs": [],
   "source": [
    "with open(outputcsvfileName, 'w') as outputcsvfile:\n",
    "    writer = csv.DictWriter(outputcsvfile, fieldnames=headings)\n",
    "    writer.writeheader()\n",
    "    \n",
    "    #for key, value in data.items():\n",
    "    writer.writerow(data)\n",
    "# save and close file\n",
    "outputcsvfile.close()"
   ]
  }
 ],
 "metadata": {
  "kernelspec": {
   "display_name": "Python 3 (ipykernel)",
   "language": "python",
   "name": "python3"
  },
  "language_info": {
   "codemirror_mode": {
    "name": "ipython",
    "version": 3
   },
   "file_extension": ".py",
   "mimetype": "text/x-python",
   "name": "python",
   "nbconvert_exporter": "python",
   "pygments_lexer": "ipython3",
   "version": "3.12.3"
  }
 },
 "nbformat": 4,
 "nbformat_minor": 5
}
