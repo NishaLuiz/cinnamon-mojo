{
 "cells": [
  {
   "cell_type": "code",
   "execution_count": null,
   "id": "9dde3b5d-bd1f-4be5-9e40-b25ab205eb6c",
   "metadata": {},
   "outputs": [],
   "source": [
    "!pip install pandas"
   ]
  },
  {
   "cell_type": "code",
   "execution_count": null,
   "id": "ff96584f-c93a-4e87-9aa8-780ec6ffc7d1",
   "metadata": {
    "scrolled": true
   },
   "outputs": [],
   "source": [
    "\n",
    "import pandas as pd\n",
    "import glob\n",
    "\n",
    "# Get a list of all CSV files in a directory\n",
    "csv_files = glob.glob('C:/Users/DELL/OneDrive/Documents/Rainfall/*_rain.csv')\n",
    "\n",
    "# Create an empty dataframe to store the combined data\n",
    "combined_df = pd.DataFrame()\n",
    "\n",
    "# Loop through each CSV file and append its contents to the combined dataframe\n",
    "for csv_file in csv_files:\n",
    "    df = pd.read_csv(csv_file)\n",
    "    combined_df = pd.concat([combined_df, df])\n",
    "\n",
    "# Print the combined dataframe\n",
    "print(combined_df)\n"
   ]
  },
  {
   "cell_type": "code",
   "execution_count": null,
   "id": "a8773235-f20c-44bf-a5df-f9f8be455111",
   "metadata": {},
   "outputs": [],
   "source": []
  }
 ],
 "metadata": {
  "kernelspec": {
   "display_name": "Python 3 (ipykernel)",
   "language": "python",
   "name": "python3"
  },
  "language_info": {
   "codemirror_mode": {
    "name": "ipython",
    "version": 3
   },
   "file_extension": ".py",
   "mimetype": "text/x-python",
   "name": "python",
   "nbconvert_exporter": "python",
   "pygments_lexer": "ipython3",
   "version": "3.12.3"
  }
 },
 "nbformat": 4,
 "nbformat_minor": 5
}
